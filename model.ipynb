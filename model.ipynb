{
 "cells": [
  {
   "cell_type": "code",
   "execution_count": null,
   "metadata": {},
   "outputs": [
    {
     "name": "stderr",
     "output_type": "stream",
     "text": [
      "Using TensorFlow backend.\n"
     ]
    }
   ],
   "source": [
    "import pandas as pd\n",
    "import numpy as np\n",
    "import matplotlib.pyplot as plt\n",
    "import seaborn as sns\n",
    "from sklearn.model_selection import train_test_split\n",
    "from sklearn.linear_model import LogisticRegression\n",
    "from sklearn.metrics import classification_report, confusion_matrix,log_loss, r2_score\n",
    "import datetime\n",
    "import dateutil\n",
    "from dateutil.relativedelta import relativedelta\n",
    "from datetime import date\n",
    "%matplotlib inline\n",
    "\n",
    "from sklearn.preprocessing import StandardScaler\n",
    "from sklearn.preprocessing import LabelEncoder\n",
    "from keras.utils import to_categorical\n",
    "\n",
    "import keras\n",
    "from keras.layers import Dense, Dropout\n",
    "from keras.models import Sequential\n",
    "from keras.callbacks import History \n",
    "from keras.utils import plot_model\n",
    "from keras.optimizers import SGD\n",
    "from keras import regularizers\n"
   ]
  },
  {
   "cell_type": "code",
   "execution_count": null,
   "metadata": {},
   "outputs": [],
   "source": [
    "data = pd.read_csv('data.csv', index_col='index')\n",
    "data.Date = pd.to_datetime(data.Date)\n",
    "data.set_index('Date', inplace=True)\n",
    "data.sort_index(inplace=True)\n",
    "\n",
    "len(data)"
   ]
  },
  {
   "cell_type": "code",
   "execution_count": null,
   "metadata": {},
   "outputs": [],
   "source": [
    "def one_hot(df, col):\n",
    "    dums = pd.get_dummies(col).iloc[:,:-1]\n",
    "    return pd.concat([df, dums], axis=1)"
   ]
  },
  {
   "cell_type": "code",
   "execution_count": null,
   "metadata": {},
   "outputs": [],
   "source": [
    "data.columns"
   ]
  },
  {
   "cell_type": "code",
   "execution_count": null,
   "metadata": {},
   "outputs": [],
   "source": [
    "cat_cols = ['Location','Tournament', 'Series', 'Court', 'Surface', 'Round','Best of' ]\n",
    "val_cols = ['PtsDelta', 'IntervalDelta' , 'P1Age', 'P2Age', 'P1Result']"
   ]
  },
  {
   "cell_type": "code",
   "execution_count": null,
   "metadata": {},
   "outputs": [],
   "source": [
    "model_data = pd.DataFrame(index=data.index)"
   ]
  },
  {
   "cell_type": "code",
   "execution_count": null,
   "metadata": {},
   "outputs": [],
   "source": [
    "for i in val_cols+cat_cols:\n",
    "    model_data[i] = data[i]"
   ]
  },
  {
   "cell_type": "code",
   "execution_count": null,
   "metadata": {},
   "outputs": [],
   "source": [
    "for i in cat_cols:\n",
    "    model_data = one_hot(model_data, model_data[i])"
   ]
  },
  {
   "cell_type": "code",
   "execution_count": null,
   "metadata": {},
   "outputs": [],
   "source": [
    "model_data = model_data.drop(columns=cat_cols)"
   ]
  },
  {
   "cell_type": "code",
   "execution_count": null,
   "metadata": {},
   "outputs": [],
   "source": [
    "model_data.columns"
   ]
  },
  {
   "cell_type": "code",
   "execution_count": null,
   "metadata": {},
   "outputs": [],
   "source": [
    "odds = ['B365P1', 'B365P2']"
   ]
  },
  {
   "cell_type": "code",
   "execution_count": null,
   "metadata": {},
   "outputs": [],
   "source": [
    "data['total_over']= 1/data[odds[0]] + 1/data[odds[1]] -1\n",
    "data['P1_implied'] = 1/data[odds[0]] - data['total_over']/2\n",
    "data['P2_implied'] = 1/data[odds[1]]- data['total_over']/2\n",
    "data['P1_implied_log'] =data['P1_implied'].apply(np.log)\n",
    "data['P2_implied_log'] =data['P2_implied'].apply(np.log) \n",
    "\n",
    "implied_probs = ['P1_implied','P2_implied']\n"
   ]
  },
  {
   "cell_type": "code",
   "execution_count": null,
   "metadata": {},
   "outputs": [],
   "source": [
    "for i in implied_probs+odds:\n",
    "    model_data[i] = data[i]\n",
    "    \n",
    "print(len(model_data))\n",
    "\n",
    "model_data.dropna(inplace=True)\n",
    "print(len(model_data))"
   ]
  },
  {
   "cell_type": "code",
   "execution_count": null,
   "metadata": {},
   "outputs": [],
   "source": [
    "start = 10000\n",
    "train_model = model_data[:start].drop(columns=odds)\n",
    "print(len(train_model))"
   ]
  },
  {
   "cell_type": "code",
   "execution_count": null,
   "metadata": {},
   "outputs": [],
   "source": [
    "scaler = StandardScaler()\n",
    "\n",
    "X = train_model.drop(columns=['P1Result']).values\n",
    "scaler.fit(X)\n",
    "y = train_model['P1Result'].values\n",
    "X = scaler.transform(X)\n",
    "X_train, X_test, y_train, y_test = train_test_split(X,y, test_size=0.1)"
   ]
  },
  {
   "cell_type": "code",
   "execution_count": null,
   "metadata": {},
   "outputs": [],
   "source": []
  },
  {
   "cell_type": "code",
   "execution_count": null,
   "metadata": {},
   "outputs": [],
   "source": [
    "lmodel = LogisticRegression(solver='liblinear', fit_intercept=True)\n",
    "lmodel.fit(X_train,y_train)\n",
    "predictions = lmodel.predict(X_test)"
   ]
  },
  {
   "cell_type": "code",
   "execution_count": null,
   "metadata": {},
   "outputs": [],
   "source": [
    "print(classification_report(y_test, predictions))\n",
    "print(classification_report(y_train, lmodel.predict(X_train)))"
   ]
  },
  {
   "cell_type": "code",
   "execution_count": null,
   "metadata": {},
   "outputs": [],
   "source": [
    "n_cols = X_train.shape[1]\n",
    "len(X_train)"
   ]
  },
  {
   "cell_type": "code",
   "execution_count": null,
   "metadata": {},
   "outputs": [],
   "source": [
    "scaler = StandardScaler()\n",
    "\n",
    "X = train_model.drop(columns=['P1Result']).values\n",
    "scaler.fit(X)\n",
    "y = train_model['P1Result'].values\n",
    "X = scaler.transform(X)\n",
    "X_train, X_test, y_train, y_test = train_test_split(X,y, test_size=0.1)"
   ]
  },
  {
   "cell_type": "code",
   "execution_count": null,
   "metadata": {},
   "outputs": [],
   "source": [
    "hist = History()\n",
    "reg= regularizers.l2(0.01)\n",
    "# reg= None\n",
    "model = Sequential()\n",
    "model.add(Dropout(rate=0.4))\n",
    "model.add(Dense(100, activation='tanh', input_dim = n_cols,kernel_regularizer=reg))\n",
    "model.add(Dense(50, activation='tanh',kernel_regularizer=reg))\n",
    "# model.add(Dropout(rate=0.2))\n",
    "model.add(Dense(10, activation='tanh'))\n",
    "model.add(Dense(5, activation='tanh'))\n",
    "model.add(Dense(1, activation='sigmoid' ))\n",
    "\n",
    "model.compile(optimizer='adam', \n",
    "              loss='binary_crossentropy', \n",
    "              metrics=['accuracy'])\n",
    "\n",
    "\n"
   ]
  },
  {
   "cell_type": "code",
   "execution_count": null,
   "metadata": {},
   "outputs": [],
   "source": [
    "model.fit(X_train, y_train, epochs=100,validation_split = .1, callbacks = [hist], batch_size=1000)"
   ]
  },
  {
   "cell_type": "code",
   "execution_count": null,
   "metadata": {},
   "outputs": [],
   "source": [
    "print(classification_report(y_test, model.predict_classes(X_test)))\n",
    "print(classification_report(y_train,  model.predict_classes(X_train)))"
   ]
  },
  {
   "cell_type": "code",
   "execution_count": null,
   "metadata": {},
   "outputs": [],
   "source": [
    "plt.plot(hist.history['loss'], color = 'red')\n",
    "plt.plot(hist.history['val_loss'], color = 'blue')\n",
    "plt.xlabel('Epochs')\n",
    "plt.ylabel('Loss')\n",
    "plt.show()"
   ]
  },
  {
   "cell_type": "code",
   "execution_count": null,
   "metadata": {},
   "outputs": [],
   "source": [
    "start = 10000\n",
    "val_data = model_data[start:]\n",
    "val_odds = model_data[start:].P1_implied"
   ]
  },
  {
   "cell_type": "code",
   "execution_count": null,
   "metadata": {},
   "outputs": [],
   "source": [
    "val_x= val_data.drop(columns=['P1Result']+odds)\n",
    "val_y = val_data.P1Result"
   ]
  },
  {
   "cell_type": "code",
   "execution_count": null,
   "metadata": {},
   "outputs": [],
   "source": [
    "val_x.shape"
   ]
  },
  {
   "cell_type": "code",
   "execution_count": null,
   "metadata": {},
   "outputs": [],
   "source": [
    "# print(classification_report(val_y,  val_x.P1_implied > 0.5))\n",
    "\n",
    "print(classification_report(val_y,  model.predict_classes(scaler.transform(val_x.values))))"
   ]
  },
  {
   "cell_type": "code",
   "execution_count": null,
   "metadata": {},
   "outputs": [],
   "source": [
    "pred_probs = model.predict(scaler.transform(val_x.values))\n",
    "\n",
    "pred_probs.shape"
   ]
  },
  {
   "cell_type": "code",
   "execution_count": null,
   "metadata": {},
   "outputs": [],
   "source": [
    "\n",
    "sim = model_data[start:][odds].copy()\n",
    "sim['P1Prob'] = pred_probs\n",
    "sim['P2Prob'] = 1 - pred_probs\n",
    "sim['P1_implied'] = model_data[start:].P1_implied\n",
    "sim['P2_implied'] = model_data[start:].P2_implied\n",
    "sim['P1ER'] = sim['P1Prob']*sim['B365P1'] - sim['P2Prob']\n",
    "sim['P2ER'] = sim['P2Prob']*sim['B365P2'] - sim['P1Prob']\n",
    "sim['P1Kelly'] = (sim['P1Prob']*sim['B365P1'] -1)/(sim['B365P1']-1)\n",
    "sim['P2Kelly'] = (sim['P2Prob']*sim['B365P2'] -1)/(sim['B365P2']-1)\n",
    "sim['P1Result'] = model_data[start:].P1Result\n",
    "sim['P2Result'] = 1- sim['P1Result']"
   ]
  },
  {
   "cell_type": "code",
   "execution_count": null,
   "metadata": {},
   "outputs": [],
   "source": [
    "sns.distplot(sim.P1_implied-sim.P1Prob,color='red')\n"
   ]
  },
  {
   "cell_type": "code",
   "execution_count": null,
   "metadata": {},
   "outputs": [],
   "source": [
    "scale_kelly = 0.1\n",
    "balance = 1000\n",
    "\n",
    "results = sim.copy\n",
    "\n",
    "\n",
    "track_balance=[]\n",
    "\n",
    "stake =[]\n",
    "i=0\n",
    "\n",
    "while balance>0 and i<len(sim):\n",
    "    p1_kelly = sim.iloc[i]['P1Kelly']\n",
    "    p2_kelly = sim.iloc[i]['P2Kelly']\n",
    "    p1_odds = sim.iloc[i]['B365P1']\n",
    "    p2_odds = sim.iloc[i]['B365P2']\n",
    "    p1_prob = sim.iloc[i]['P1Prob']\n",
    "    p2_prob = sim.iloc[i]['P2Prob']\n",
    "    p1_win = sim.iloc[i]['P1Result']\n",
    "    p2_win = 1- p1_win\n",
    "\n",
    "    if  p1_kelly > 0 :\n",
    "        stake = balance*scale_kelly*p1_kelly\n",
    "        balance += stake*p1_odds*p1_win - stake\n",
    "\n",
    "#     if  p2_kelly > 0:\n",
    "#         stake = balance*scale_kelly*p12_kelly\n",
    "#         balance += stake*p2_odds*p2_win - stake\n",
    "\n",
    "    track_balance.append(balance)\n",
    "\n",
    "    i+=1\n",
    "\n"
   ]
  },
  {
   "cell_type": "code",
   "execution_count": null,
   "metadata": {
    "scrolled": true
   },
   "outputs": [],
   "source": [
    "balance_s = pd.Series(data=track_balance,name='Balance', index=sim.index[:len(track_balance)])\n",
    "plt.figure(figsize=(30,10))\n",
    "sns.lineplot(data=balance_s)"
   ]
  },
  {
   "cell_type": "code",
   "execution_count": null,
   "metadata": {},
   "outputs": [],
   "source": [
    "results = sim.copy()\n",
    "results['balance'] = balance_s\n",
    "results['total_return'] = (results['balance'] - 1000)/ 1000*100"
   ]
  },
  {
   "cell_type": "code",
   "execution_count": null,
   "metadata": {},
   "outputs": [],
   "source": [
    "plt.figure(figsize=(30,10))\n",
    "sns.lineplot(data=results['total_return'])"
   ]
  },
  {
   "cell_type": "code",
   "execution_count": null,
   "metadata": {},
   "outputs": [],
   "source": [
    "years = (results.index[-1]-results.index[1])\n",
    "print(\"max_loss \" + str(min(results.total_return)) )\n",
    "print(\"max_gain \" + str(max(results.total_return)) )\n",
    "print(\"end_return \" + str(results.total_return.iloc[-1]) )"
   ]
  },
  {
   "cell_type": "code",
   "execution_count": null,
   "metadata": {},
   "outputs": [],
   "source": [
    "results.total_return.mode()"
   ]
  },
  {
   "cell_type": "code",
   "execution_count": null,
   "metadata": {},
   "outputs": [],
   "source": [
    "results.corr()"
   ]
  },
  {
   "cell_type": "code",
   "execution_count": null,
   "metadata": {},
   "outputs": [],
   "source": [
    "for i in sim.iteritems():\n",
    "    print (i[1])"
   ]
  },
  {
   "cell_type": "code",
   "execution_count": null,
   "metadata": {},
   "outputs": [],
   "source": []
  }
 ],
 "metadata": {
  "kernelspec": {
   "display_name": "Python 3",
   "language": "python",
   "name": "python3"
  },
  "language_info": {
   "codemirror_mode": {
    "name": "ipython",
    "version": 3
   },
   "file_extension": ".py",
   "mimetype": "text/x-python",
   "name": "python",
   "nbconvert_exporter": "python",
   "pygments_lexer": "ipython3",
   "version": "3.7.4"
  }
 },
 "nbformat": 4,
 "nbformat_minor": 2
}
