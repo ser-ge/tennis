{
 "cells": [
  {
   "cell_type": "code",
   "execution_count": 12,
   "metadata": {},
   "outputs": [],
   "source": [
    "import pandas as pd\n",
    "import numpy as np\n",
    "import matplotlib.pyplot as plt\n",
    "import seaborn as sns\n",
    "from sklearn.model_selection import train_test_split\n",
    "from sklearn.linear_model import LogisticRegression\n",
    "from sklearn.metrics import classification_report, confusion_matrix,log_loss, r2_score\n",
    "import datetime\n",
    "import dateutil\n",
    "from dateutil.relativedelta import relativedelta\n",
    "from datetime import date\n",
    "%matplotlib inline\n"
   ]
  },
  {
   "cell_type": "code",
   "execution_count": 14,
   "metadata": {},
   "outputs": [
    {
     "name": "stderr",
     "output_type": "stream",
     "text": [
      "/usr/local/lib/python3.7/site-packages/IPython/core/interactiveshell.py:3044: DtypeWarning: Columns (31,68) have mixed types. Specify dtype option on import or set low_memory=False.\n",
      "  interactivity=interactivity, compiler=compiler, result=result)\n"
     ]
    },
    {
     "data": {
      "text/plain": [
       "13706"
      ]
     },
     "execution_count": 14,
     "metadata": {},
     "output_type": "execute_result"
    }
   ],
   "source": [
    "data = pd.read_csv('data.csv', index_col='index')\n",
    "data.Date = pd.to_datetime(data.Date)\n",
    "data.set_index('Date', inplace=True)\n",
    "data.sort_index(inplace=True)\n",
    "\n",
    "len(data)"
   ]
  },
  {
   "cell_type": "code",
   "execution_count": 19,
   "metadata": {},
   "outputs": [],
   "source": [
    "def one_hot(df, col):\n",
    "    dums = pd.get_dummies(col).iloc[:,:-1]\n",
    "    return pd.concat([df, dums], axis=1)"
   ]
  },
  {
   "cell_type": "code",
   "execution_count": 21,
   "metadata": {},
   "outputs": [
    {
     "data": {
      "text/plain": [
       "Index(['ATP', 'Location', 'Tournament', 'Series', 'Court', 'Surface', 'Round',\n",
       "       'Best of', 'Winner', 'Loser', 'WRank', 'LRank', 'WPts', 'LPts', 'W1',\n",
       "       'L1', 'W2', 'L2', 'W3', 'L3', 'W4', 'L4', 'W5', 'L5', 'Wsets', 'Lsets',\n",
       "       'Comment', 'B365W', 'B365L', 'EXW', 'EXL', 'LBW', 'LBL', 'PSW', 'PSL',\n",
       "       'MaxW', 'MaxL', 'AvgW', 'AvgL', 'SJW', 'SJL', 'loser_surname',\n",
       "       'winner_surname', 'winner_initial', 'loser_initial', 'P1', 'P2',\n",
       "       'P1Rank', 'P2Rank', 'P1Pts', 'P2Pts', 'P11', 'P21', 'P12', 'P22', 'P13',\n",
       "       'P23', 'P14', 'P24', 'P15', 'P25', 'P1sets', 'P2sets', 'B365P1',\n",
       "       'B365P2', 'EXP1', 'EXP2', 'P2BP1', 'P2BP2', 'PSP1', 'PSP2', 'MaxP1',\n",
       "       'MaxP2', 'AvgP1', 'AvgP2', 'PtsDelta', 'IntervalDelta', 'winner_id',\n",
       "       'winner_birthday', 'winner_country', 'indicator_column', 'loser_id',\n",
       "       'loser_birthday', 'loser_country', 'indicator_column_loser_merge',\n",
       "       'winner_age', 'loser_age', 'P1Age', 'P2Age', 'P1Result'],\n",
       "      dtype='object')"
      ]
     },
     "execution_count": 21,
     "metadata": {},
     "output_type": "execute_result"
    }
   ],
   "source": [
    "data.columns"
   ]
  },
  {
   "cell_type": "code",
   "execution_count": 23,
   "metadata": {},
   "outputs": [],
   "source": [
    "cat_cols = ['Location','Tournament', 'Series', 'Court', 'Surface', 'Round','Best of' ]\n",
    "val_cols = ['PtsDelta', 'IntervalDelta' , 'P1Age', 'P2Age', 'P1Result']"
   ]
  },
  {
   "cell_type": "code",
   "execution_count": 28,
   "metadata": {},
   "outputs": [],
   "source": [
    "model_data = pd.DataFrame(index=data.index)"
   ]
  },
  {
   "cell_type": "code",
   "execution_count": 29,
   "metadata": {},
   "outputs": [],
   "source": [
    "for i in val_cols+cat_cols:\n",
    "    model_data[i] = data[i]"
   ]
  },
  {
   "cell_type": "code",
   "execution_count": 30,
   "metadata": {},
   "outputs": [],
   "source": [
    "for i in cat_cols:\n",
    "    model_data = one_hot(model_data, model_data[i])"
   ]
  },
  {
   "cell_type": "code",
   "execution_count": 35,
   "metadata": {},
   "outputs": [
    {
     "ename": "KeyError",
     "evalue": "\"['Location' 'Tournament' 'Series' 'Court' 'Surface' 'Round' 'Best of'] not found in axis\"",
     "output_type": "error",
     "traceback": [
      "\u001b[0;31m---------------------------------------------------------------------------\u001b[0m",
      "\u001b[0;31mKeyError\u001b[0m                                  Traceback (most recent call last)",
      "\u001b[0;32m<ipython-input-35-254b2f28d400>\u001b[0m in \u001b[0;36m<module>\u001b[0;34m\u001b[0m\n\u001b[0;32m----> 1\u001b[0;31m \u001b[0mmodel_data\u001b[0m \u001b[0;34m=\u001b[0m \u001b[0mmodel_data\u001b[0m\u001b[0;34m.\u001b[0m\u001b[0mdrop\u001b[0m\u001b[0;34m(\u001b[0m\u001b[0mcolumns\u001b[0m\u001b[0;34m=\u001b[0m\u001b[0mcat_cols\u001b[0m\u001b[0;34m)\u001b[0m\u001b[0;34m\u001b[0m\u001b[0;34m\u001b[0m\u001b[0m\n\u001b[0m",
      "\u001b[0;32m/usr/local/lib/python3.7/site-packages/pandas/core/frame.py\u001b[0m in \u001b[0;36mdrop\u001b[0;34m(self, labels, axis, index, columns, level, inplace, errors)\u001b[0m\n\u001b[1;32m   3938\u001b[0m                                            \u001b[0mindex\u001b[0m\u001b[0;34m=\u001b[0m\u001b[0mindex\u001b[0m\u001b[0;34m,\u001b[0m \u001b[0mcolumns\u001b[0m\u001b[0;34m=\u001b[0m\u001b[0mcolumns\u001b[0m\u001b[0;34m,\u001b[0m\u001b[0;34m\u001b[0m\u001b[0;34m\u001b[0m\u001b[0m\n\u001b[1;32m   3939\u001b[0m                                            \u001b[0mlevel\u001b[0m\u001b[0;34m=\u001b[0m\u001b[0mlevel\u001b[0m\u001b[0;34m,\u001b[0m \u001b[0minplace\u001b[0m\u001b[0;34m=\u001b[0m\u001b[0minplace\u001b[0m\u001b[0;34m,\u001b[0m\u001b[0;34m\u001b[0m\u001b[0;34m\u001b[0m\u001b[0m\n\u001b[0;32m-> 3940\u001b[0;31m                                            errors=errors)\n\u001b[0m\u001b[1;32m   3941\u001b[0m \u001b[0;34m\u001b[0m\u001b[0m\n\u001b[1;32m   3942\u001b[0m     @rewrite_axis_style_signature('mapper', [('copy', True),\n",
      "\u001b[0;32m/usr/local/lib/python3.7/site-packages/pandas/core/generic.py\u001b[0m in \u001b[0;36mdrop\u001b[0;34m(self, labels, axis, index, columns, level, inplace, errors)\u001b[0m\n\u001b[1;32m   3778\u001b[0m         \u001b[0;32mfor\u001b[0m \u001b[0maxis\u001b[0m\u001b[0;34m,\u001b[0m \u001b[0mlabels\u001b[0m \u001b[0;32min\u001b[0m \u001b[0maxes\u001b[0m\u001b[0;34m.\u001b[0m\u001b[0mitems\u001b[0m\u001b[0;34m(\u001b[0m\u001b[0;34m)\u001b[0m\u001b[0;34m:\u001b[0m\u001b[0;34m\u001b[0m\u001b[0;34m\u001b[0m\u001b[0m\n\u001b[1;32m   3779\u001b[0m             \u001b[0;32mif\u001b[0m \u001b[0mlabels\u001b[0m \u001b[0;32mis\u001b[0m \u001b[0;32mnot\u001b[0m \u001b[0;32mNone\u001b[0m\u001b[0;34m:\u001b[0m\u001b[0;34m\u001b[0m\u001b[0;34m\u001b[0m\u001b[0m\n\u001b[0;32m-> 3780\u001b[0;31m                 \u001b[0mobj\u001b[0m \u001b[0;34m=\u001b[0m \u001b[0mobj\u001b[0m\u001b[0;34m.\u001b[0m\u001b[0m_drop_axis\u001b[0m\u001b[0;34m(\u001b[0m\u001b[0mlabels\u001b[0m\u001b[0;34m,\u001b[0m \u001b[0maxis\u001b[0m\u001b[0;34m,\u001b[0m \u001b[0mlevel\u001b[0m\u001b[0;34m=\u001b[0m\u001b[0mlevel\u001b[0m\u001b[0;34m,\u001b[0m \u001b[0merrors\u001b[0m\u001b[0;34m=\u001b[0m\u001b[0merrors\u001b[0m\u001b[0;34m)\u001b[0m\u001b[0;34m\u001b[0m\u001b[0;34m\u001b[0m\u001b[0m\n\u001b[0m\u001b[1;32m   3781\u001b[0m \u001b[0;34m\u001b[0m\u001b[0m\n\u001b[1;32m   3782\u001b[0m         \u001b[0;32mif\u001b[0m \u001b[0minplace\u001b[0m\u001b[0;34m:\u001b[0m\u001b[0;34m\u001b[0m\u001b[0;34m\u001b[0m\u001b[0m\n",
      "\u001b[0;32m/usr/local/lib/python3.7/site-packages/pandas/core/generic.py\u001b[0m in \u001b[0;36m_drop_axis\u001b[0;34m(self, labels, axis, level, errors)\u001b[0m\n\u001b[1;32m   3810\u001b[0m                 \u001b[0mnew_axis\u001b[0m \u001b[0;34m=\u001b[0m \u001b[0maxis\u001b[0m\u001b[0;34m.\u001b[0m\u001b[0mdrop\u001b[0m\u001b[0;34m(\u001b[0m\u001b[0mlabels\u001b[0m\u001b[0;34m,\u001b[0m \u001b[0mlevel\u001b[0m\u001b[0;34m=\u001b[0m\u001b[0mlevel\u001b[0m\u001b[0;34m,\u001b[0m \u001b[0merrors\u001b[0m\u001b[0;34m=\u001b[0m\u001b[0merrors\u001b[0m\u001b[0;34m)\u001b[0m\u001b[0;34m\u001b[0m\u001b[0;34m\u001b[0m\u001b[0m\n\u001b[1;32m   3811\u001b[0m             \u001b[0;32melse\u001b[0m\u001b[0;34m:\u001b[0m\u001b[0;34m\u001b[0m\u001b[0;34m\u001b[0m\u001b[0m\n\u001b[0;32m-> 3812\u001b[0;31m                 \u001b[0mnew_axis\u001b[0m \u001b[0;34m=\u001b[0m \u001b[0maxis\u001b[0m\u001b[0;34m.\u001b[0m\u001b[0mdrop\u001b[0m\u001b[0;34m(\u001b[0m\u001b[0mlabels\u001b[0m\u001b[0;34m,\u001b[0m \u001b[0merrors\u001b[0m\u001b[0;34m=\u001b[0m\u001b[0merrors\u001b[0m\u001b[0;34m)\u001b[0m\u001b[0;34m\u001b[0m\u001b[0;34m\u001b[0m\u001b[0m\n\u001b[0m\u001b[1;32m   3813\u001b[0m             \u001b[0mresult\u001b[0m \u001b[0;34m=\u001b[0m \u001b[0mself\u001b[0m\u001b[0;34m.\u001b[0m\u001b[0mreindex\u001b[0m\u001b[0;34m(\u001b[0m\u001b[0;34m**\u001b[0m\u001b[0;34m{\u001b[0m\u001b[0maxis_name\u001b[0m\u001b[0;34m:\u001b[0m \u001b[0mnew_axis\u001b[0m\u001b[0;34m}\u001b[0m\u001b[0;34m)\u001b[0m\u001b[0;34m\u001b[0m\u001b[0;34m\u001b[0m\u001b[0m\n\u001b[1;32m   3814\u001b[0m \u001b[0;34m\u001b[0m\u001b[0m\n",
      "\u001b[0;32m/usr/local/lib/python3.7/site-packages/pandas/core/indexes/base.py\u001b[0m in \u001b[0;36mdrop\u001b[0;34m(self, labels, errors)\u001b[0m\n\u001b[1;32m   4962\u001b[0m             \u001b[0;32mif\u001b[0m \u001b[0merrors\u001b[0m \u001b[0;34m!=\u001b[0m \u001b[0;34m'ignore'\u001b[0m\u001b[0;34m:\u001b[0m\u001b[0;34m\u001b[0m\u001b[0;34m\u001b[0m\u001b[0m\n\u001b[1;32m   4963\u001b[0m                 raise KeyError(\n\u001b[0;32m-> 4964\u001b[0;31m                     '{} not found in axis'.format(labels[mask]))\n\u001b[0m\u001b[1;32m   4965\u001b[0m             \u001b[0mindexer\u001b[0m \u001b[0;34m=\u001b[0m \u001b[0mindexer\u001b[0m\u001b[0;34m[\u001b[0m\u001b[0;34m~\u001b[0m\u001b[0mmask\u001b[0m\u001b[0;34m]\u001b[0m\u001b[0;34m\u001b[0m\u001b[0;34m\u001b[0m\u001b[0m\n\u001b[1;32m   4966\u001b[0m         \u001b[0;32mreturn\u001b[0m \u001b[0mself\u001b[0m\u001b[0;34m.\u001b[0m\u001b[0mdelete\u001b[0m\u001b[0;34m(\u001b[0m\u001b[0mindexer\u001b[0m\u001b[0;34m)\u001b[0m\u001b[0;34m\u001b[0m\u001b[0;34m\u001b[0m\u001b[0m\n",
      "\u001b[0;31mKeyError\u001b[0m: \"['Location' 'Tournament' 'Series' 'Court' 'Surface' 'Round' 'Best of'] not found in axis\""
     ]
    }
   ],
   "source": [
    "model_data = model_data.drop(columns=cat_cols)"
   ]
  },
  {
   "cell_type": "code",
   "execution_count": 39,
   "metadata": {},
   "outputs": [
    {
     "data": {
      "text/plain": [
       "Index([        'PtsDelta',    'IntervalDelta',            'P1Age',\n",
       "                  'P2Age',         'P1Result', ''s-Hertogenbosch',\n",
       "               'Acapulco',          'Antalya',          'Antwerp',\n",
       "                'Atlanta',\n",
       "       ...\n",
       "                   'Clay',            'Grass',        '1st Round',\n",
       "              '2nd Round',        '3rd Round',        '4th Round',\n",
       "          'Quarterfinals',      'Round Robin',       'Semifinals',\n",
       "                        3],\n",
       "      dtype='object', length=200)"
      ]
     },
     "execution_count": 39,
     "metadata": {},
     "output_type": "execute_result"
    }
   ],
   "source": [
    "model_data.columns"
   ]
  },
  {
   "cell_type": "code",
   "execution_count": 40,
   "metadata": {},
   "outputs": [],
   "source": [
    "odds = ['B365P1', 'B365P2']"
   ]
  },
  {
   "cell_type": "code",
   "execution_count": 41,
   "metadata": {},
   "outputs": [],
   "source": [
    "data['total_over']= 1/data[odds[0]] + 1/data[odds[1]] -1\n",
    "data['P1_implied'] = 1/data[odds[0]] - data['total_over']/2\n",
    "data['P2_implied'] = 1/data[odds[1]]- data['total_over']/2\n",
    "data['P1_implied_log'] =data['P1_implied'].apply(np.log)\n",
    "data['P2_implied_log'] =data['P2_implied'].apply(np.log) \n",
    "\n",
    "implied_probs = ['P1_implied', 'P2_implied', 'P1_implied_log','P2_implied_log']"
   ]
  },
  {
   "cell_type": "code",
   "execution_count": 42,
   "metadata": {},
   "outputs": [
    {
     "name": "stdout",
     "output_type": "stream",
     "text": [
      "13616\n"
     ]
    }
   ],
   "source": [
    "for i in implied_probs:\n",
    "    model_data[i] = data[i]\n",
    "\n",
    "model_data.dropna(inplace=True)\n",
    "print(len(model_data))"
   ]
  },
  {
   "cell_type": "code",
   "execution_count": 202,
   "metadata": {},
   "outputs": [
    {
     "name": "stdout",
     "output_type": "stream",
     "text": [
      "10000\n"
     ]
    }
   ],
   "source": [
    "train_to = model_data.index[int(len(model_data)/2)]\n",
    "train_model = model_data[:10000]\n",
    "print(len(train_model))\n"
   ]
  },
  {
   "cell_type": "code",
   "execution_count": 203,
   "metadata": {},
   "outputs": [],
   "source": [
    "scaler = StandardScaler()\n",
    "\n",
    "X = train_model.drop(columns=['P1Result']).values\n",
    "scaler.fit(X)\n",
    "y = train_model['P1Result'].values\n",
    "X = scaler.transform(X)\n",
    "X_train, X_test, y_train, y_test = train_test_split(X,y, test_size=0.1)"
   ]
  },
  {
   "cell_type": "code",
   "execution_count": 204,
   "metadata": {},
   "outputs": [],
   "source": []
  },
  {
   "cell_type": "code",
   "execution_count": 205,
   "metadata": {},
   "outputs": [],
   "source": [
    "model = LogisticRegression(solver='liblinear', fit_intercept=True)\n",
    "model.fit(X_train,y_train)\n",
    "predictions = model.predict(X_test)"
   ]
  },
  {
   "cell_type": "code",
   "execution_count": 206,
   "metadata": {},
   "outputs": [
    {
     "name": "stdout",
     "output_type": "stream",
     "text": [
      "              precision    recall  f1-score   support\n",
      "\n",
      "           0       0.71      0.71      0.71       500\n",
      "           1       0.71      0.71      0.71       500\n",
      "\n",
      "   micro avg       0.71      0.71      0.71      1000\n",
      "   macro avg       0.71      0.71      0.71      1000\n",
      "weighted avg       0.71      0.71      0.71      1000\n",
      "\n",
      "              precision    recall  f1-score   support\n",
      "\n",
      "           0       0.71      0.72      0.71      4474\n",
      "           1       0.72      0.71      0.71      4526\n",
      "\n",
      "   micro avg       0.71      0.71      0.71      9000\n",
      "   macro avg       0.71      0.71      0.71      9000\n",
      "weighted avg       0.71      0.71      0.71      9000\n",
      "\n"
     ]
    }
   ],
   "source": [
    "print(classification_report(y_test, predictions))\n",
    "print(classification_report(y_train, model.predict(X_train)))"
   ]
  },
  {
   "cell_type": "code",
   "execution_count": 240,
   "metadata": {},
   "outputs": [],
   "source": [
    "from sklearn.preprocessing import StandardScaler\n",
    "from sklearn.preprocessing import LabelEncoder\n",
    "from keras.utils import to_categorical\n",
    "\n",
    "import keras\n",
    "from keras.layers import Dense, Dropout\n",
    "from keras.models import Sequential\n",
    "from keras.callbacks import History \n",
    "from keras.utils import plot_model\n",
    "from keras.optimizers import SGD\n",
    "from keras import regularizers"
   ]
  },
  {
   "cell_type": "code",
   "execution_count": 283,
   "metadata": {},
   "outputs": [
    {
     "data": {
      "text/plain": [
       "9000"
      ]
     },
     "execution_count": 283,
     "metadata": {},
     "output_type": "execute_result"
    }
   ],
   "source": [
    "n_cols = X_train.shape[1]\n",
    "len(X_train)"
   ]
  },
  {
   "cell_type": "code",
   "execution_count": 284,
   "metadata": {},
   "outputs": [],
   "source": [
    "implied_probs = ['P1_implied_log','P2_implied_log']"
   ]
  },
  {
   "cell_type": "code",
   "execution_count": 286,
   "metadata": {},
   "outputs": [],
   "source": [
    "n_model=train_model.drop(columns=implied_probs)"
   ]
  },
  {
   "cell_type": "code",
   "execution_count": 287,
   "metadata": {},
   "outputs": [],
   "source": [
    "scaler = StandardScaler()\n",
    "\n",
    "X = n_model.drop(columns=['P1Result']).values\n",
    "scaler.fit(X)\n",
    "y = train_model['P1Result'].values\n",
    "X = scaler.transform(X)\n",
    "X_train, X_test, y_train, y_test = train_test_split(X,y, test_size=0.1)"
   ]
  },
  {
   "cell_type": "code",
   "execution_count": 288,
   "metadata": {},
   "outputs": [],
   "source": [
    "hist = History()\n",
    "reg= regularizers.l2(0.01)\n",
    "# reg= None\n",
    "model = Sequential()\n",
    "model.add(Dropout(rate=0.4))\n",
    "model.add(Dense(100, activation='tanh', input_dim = n_cols,kernel_regularizer=reg))\n",
    "model.add(Dense(50, activation='tanh',kernel_regularizer=reg))\n",
    "# model.add(Dropout(rate=0.2))\n",
    "model.add(Dense(10, activation='tanh'))\n",
    "model.add(Dense(5, activation='tanh'))\n",
    "model.add(Dense(1, activation='sigmoid' ))\n",
    "\n",
    "model.compile(optimizer='adam', \n",
    "              loss='binary_crossentropy', \n",
    "              metrics=['accuracy'])\n",
    "\n",
    "\n"
   ]
  },
  {
   "cell_type": "code",
   "execution_count": 289,
   "metadata": {},
   "outputs": [
    {
     "name": "stdout",
     "output_type": "stream",
     "text": [
      "Train on 8100 samples, validate on 900 samples\n",
      "Epoch 1/100\n",
      "8100/8100 [==============================] - 3s 394us/step - loss: 2.6007 - acc: 0.5672 - val_loss: 2.3757 - val_acc: 0.6511\n",
      "Epoch 2/100\n",
      "8100/8100 [==============================] - 0s 15us/step - loss: 2.2831 - acc: 0.6400 - val_loss: 2.1020 - val_acc: 0.6856\n",
      "Epoch 3/100\n",
      "8100/8100 [==============================] - 0s 12us/step - loss: 2.0285 - acc: 0.6701 - val_loss: 1.8741 - val_acc: 0.7011\n",
      "Epoch 4/100\n",
      "8100/8100 [==============================] - 0s 14us/step - loss: 1.8162 - acc: 0.6819 - val_loss: 1.6825 - val_acc: 0.6989\n",
      "Epoch 5/100\n",
      "8100/8100 [==============================] - 0s 12us/step - loss: 1.6326 - acc: 0.6814 - val_loss: 1.5218 - val_acc: 0.6956\n",
      "Epoch 6/100\n",
      "8100/8100 [==============================] - 0s 14us/step - loss: 1.4790 - acc: 0.6906 - val_loss: 1.3826 - val_acc: 0.6911\n",
      "Epoch 7/100\n",
      "8100/8100 [==============================] - 0s 15us/step - loss: 1.3436 - acc: 0.6898 - val_loss: 1.2640 - val_acc: 0.7011\n",
      "Epoch 8/100\n",
      "8100/8100 [==============================] - 0s 14us/step - loss: 1.2349 - acc: 0.6884 - val_loss: 1.1596 - val_acc: 0.7056\n",
      "Epoch 9/100\n",
      "8100/8100 [==============================] - 0s 16us/step - loss: 1.1378 - acc: 0.6912 - val_loss: 1.0728 - val_acc: 0.7011\n",
      "Epoch 10/100\n",
      "8100/8100 [==============================] - 0s 15us/step - loss: 1.0541 - acc: 0.6947 - val_loss: 1.0043 - val_acc: 0.6956\n",
      "Epoch 11/100\n",
      "8100/8100 [==============================] - 0s 17us/step - loss: 0.9870 - acc: 0.6915 - val_loss: 0.9448 - val_acc: 0.6978\n",
      "Epoch 12/100\n",
      "8100/8100 [==============================] - 0s 14us/step - loss: 0.9316 - acc: 0.6930 - val_loss: 0.8915 - val_acc: 0.6978\n",
      "Epoch 13/100\n",
      "8100/8100 [==============================] - 0s 12us/step - loss: 0.8860 - acc: 0.6904 - val_loss: 0.8406 - val_acc: 0.7044\n",
      "Epoch 14/100\n",
      "8100/8100 [==============================] - 0s 16us/step - loss: 0.8432 - acc: 0.6883 - val_loss: 0.8041 - val_acc: 0.7056\n",
      "Epoch 15/100\n",
      "8100/8100 [==============================] - 0s 16us/step - loss: 0.8065 - acc: 0.6960 - val_loss: 0.7742 - val_acc: 0.6978\n",
      "Epoch 16/100\n",
      "8100/8100 [==============================] - 0s 16us/step - loss: 0.7771 - acc: 0.6954 - val_loss: 0.7481 - val_acc: 0.7044\n",
      "Epoch 17/100\n",
      "8100/8100 [==============================] - 0s 19us/step - loss: 0.7482 - acc: 0.6937 - val_loss: 0.7291 - val_acc: 0.7033\n",
      "Epoch 18/100\n",
      "8100/8100 [==============================] - 0s 15us/step - loss: 0.7238 - acc: 0.6963 - val_loss: 0.7113 - val_acc: 0.7022\n",
      "Epoch 19/100\n",
      "8100/8100 [==============================] - 0s 12us/step - loss: 0.7098 - acc: 0.6962 - val_loss: 0.6924 - val_acc: 0.7000\n",
      "Epoch 20/100\n",
      "8100/8100 [==============================] - 0s 15us/step - loss: 0.6906 - acc: 0.6954 - val_loss: 0.6744 - val_acc: 0.7067\n",
      "Epoch 21/100\n",
      "8100/8100 [==============================] - 0s 15us/step - loss: 0.6819 - acc: 0.6888 - val_loss: 0.6607 - val_acc: 0.7044\n",
      "Epoch 22/100\n",
      "8100/8100 [==============================] - 0s 14us/step - loss: 0.6668 - acc: 0.6896 - val_loss: 0.6494 - val_acc: 0.7022\n",
      "Epoch 23/100\n",
      "8100/8100 [==============================] - 0s 12us/step - loss: 0.6577 - acc: 0.6954 - val_loss: 0.6387 - val_acc: 0.6978\n",
      "Epoch 24/100\n",
      "8100/8100 [==============================] - 0s 13us/step - loss: 0.6507 - acc: 0.6901 - val_loss: 0.6301 - val_acc: 0.7044\n",
      "Epoch 25/100\n",
      "8100/8100 [==============================] - 0s 16us/step - loss: 0.6396 - acc: 0.6979 - val_loss: 0.6245 - val_acc: 0.7044\n",
      "Epoch 26/100\n",
      "8100/8100 [==============================] - 0s 16us/step - loss: 0.6358 - acc: 0.6925 - val_loss: 0.6197 - val_acc: 0.7122\n",
      "Epoch 27/100\n",
      "8100/8100 [==============================] - 0s 21us/step - loss: 0.6278 - acc: 0.6967 - val_loss: 0.6140 - val_acc: 0.7122\n",
      "Epoch 28/100\n",
      "8100/8100 [==============================] - 0s 15us/step - loss: 0.6216 - acc: 0.6935 - val_loss: 0.6081 - val_acc: 0.7111\n",
      "Epoch 29/100\n",
      "8100/8100 [==============================] - 0s 13us/step - loss: 0.6167 - acc: 0.6932 - val_loss: 0.6063 - val_acc: 0.7011\n",
      "Epoch 30/100\n",
      "8100/8100 [==============================] - 0s 16us/step - loss: 0.6175 - acc: 0.6928 - val_loss: 0.6020 - val_acc: 0.6956\n",
      "Epoch 31/100\n",
      "8100/8100 [==============================] - 0s 18us/step - loss: 0.6111 - acc: 0.6943 - val_loss: 0.5959 - val_acc: 0.7089\n",
      "Epoch 32/100\n",
      "8100/8100 [==============================] - 0s 19us/step - loss: 0.6096 - acc: 0.6952 - val_loss: 0.5964 - val_acc: 0.7078\n",
      "Epoch 33/100\n",
      "8100/8100 [==============================] - 0s 22us/step - loss: 0.6045 - acc: 0.6922 - val_loss: 0.5937 - val_acc: 0.7222\n",
      "Epoch 34/100\n",
      "8100/8100 [==============================] - 0s 17us/step - loss: 0.6045 - acc: 0.6957 - val_loss: 0.5918 - val_acc: 0.7144\n",
      "Epoch 35/100\n",
      "8100/8100 [==============================] - 0s 15us/step - loss: 0.5985 - acc: 0.6938 - val_loss: 0.5898 - val_acc: 0.7111\n",
      "Epoch 36/100\n",
      "8100/8100 [==============================] - 0s 17us/step - loss: 0.6012 - acc: 0.6909 - val_loss: 0.5880 - val_acc: 0.7022\n",
      "Epoch 37/100\n",
      "8100/8100 [==============================] - 0s 21us/step - loss: 0.5980 - acc: 0.6927 - val_loss: 0.5845 - val_acc: 0.7056\n",
      "Epoch 38/100\n",
      "8100/8100 [==============================] - 0s 15us/step - loss: 0.5994 - acc: 0.6886 - val_loss: 0.5848 - val_acc: 0.6967\n",
      "Epoch 39/100\n",
      "8100/8100 [==============================] - 0s 15us/step - loss: 0.5954 - acc: 0.6947 - val_loss: 0.5862 - val_acc: 0.7033\n",
      "Epoch 40/100\n",
      "8100/8100 [==============================] - 0s 15us/step - loss: 0.5977 - acc: 0.6921 - val_loss: 0.5861 - val_acc: 0.7133\n",
      "Epoch 41/100\n",
      "8100/8100 [==============================] - 0s 16us/step - loss: 0.5957 - acc: 0.6943 - val_loss: 0.5845 - val_acc: 0.7100\n",
      "Epoch 42/100\n",
      "8100/8100 [==============================] - 0s 18us/step - loss: 0.5955 - acc: 0.6927 - val_loss: 0.5831 - val_acc: 0.7011\n",
      "Epoch 43/100\n",
      "8100/8100 [==============================] - 0s 19us/step - loss: 0.5958 - acc: 0.6948 - val_loss: 0.5817 - val_acc: 0.7011\n",
      "Epoch 44/100\n",
      "8100/8100 [==============================] - 0s 20us/step - loss: 0.5939 - acc: 0.6904 - val_loss: 0.5816 - val_acc: 0.7044\n",
      "Epoch 45/100\n",
      "8100/8100 [==============================] - 0s 16us/step - loss: 0.5934 - acc: 0.6972 - val_loss: 0.5835 - val_acc: 0.7033\n",
      "Epoch 46/100\n",
      "8100/8100 [==============================] - 0s 13us/step - loss: 0.5937 - acc: 0.7005 - val_loss: 0.5818 - val_acc: 0.7100\n",
      "Epoch 47/100\n",
      "8100/8100 [==============================] - 0s 18us/step - loss: 0.5921 - acc: 0.6944 - val_loss: 0.5801 - val_acc: 0.7033\n",
      "Epoch 48/100\n",
      "8100/8100 [==============================] - 0s 16us/step - loss: 0.5947 - acc: 0.6936 - val_loss: 0.5806 - val_acc: 0.6967\n",
      "Epoch 49/100\n",
      "8100/8100 [==============================] - 0s 16us/step - loss: 0.5930 - acc: 0.6916 - val_loss: 0.5801 - val_acc: 0.6978\n",
      "Epoch 50/100\n",
      "8100/8100 [==============================] - 0s 19us/step - loss: 0.5919 - acc: 0.6985 - val_loss: 0.5825 - val_acc: 0.7044\n",
      "Epoch 51/100\n",
      "8100/8100 [==============================] - 0s 17us/step - loss: 0.5952 - acc: 0.6949 - val_loss: 0.5841 - val_acc: 0.7089\n",
      "Epoch 52/100\n",
      "8100/8100 [==============================] - 0s 16us/step - loss: 0.5927 - acc: 0.6960 - val_loss: 0.5851 - val_acc: 0.7022\n",
      "Epoch 53/100\n",
      "8100/8100 [==============================] - 0s 17us/step - loss: 0.5882 - acc: 0.6949 - val_loss: 0.5810 - val_acc: 0.7100\n",
      "Epoch 54/100\n",
      "8100/8100 [==============================] - 0s 19us/step - loss: 0.5893 - acc: 0.6953 - val_loss: 0.5784 - val_acc: 0.7100\n",
      "Epoch 55/100\n",
      "8100/8100 [==============================] - 0s 17us/step - loss: 0.5917 - acc: 0.6931 - val_loss: 0.5802 - val_acc: 0.7100\n",
      "Epoch 56/100\n",
      "8100/8100 [==============================] - 0s 17us/step - loss: 0.5891 - acc: 0.6972 - val_loss: 0.5798 - val_acc: 0.7033\n",
      "Epoch 57/100\n",
      "8100/8100 [==============================] - 0s 18us/step - loss: 0.5924 - acc: 0.6938 - val_loss: 0.5757 - val_acc: 0.7067\n",
      "Epoch 58/100\n",
      "8100/8100 [==============================] - 0s 15us/step - loss: 0.5909 - acc: 0.6970 - val_loss: 0.5742 - val_acc: 0.7100\n",
      "Epoch 59/100\n",
      "8100/8100 [==============================] - 0s 17us/step - loss: 0.5905 - acc: 0.6943 - val_loss: 0.5757 - val_acc: 0.7100\n",
      "Epoch 60/100\n"
     ]
    },
    {
     "name": "stdout",
     "output_type": "stream",
     "text": [
      "8100/8100 [==============================] - 0s 16us/step - loss: 0.5895 - acc: 0.6953 - val_loss: 0.5784 - val_acc: 0.7111\n",
      "Epoch 61/100\n",
      "8100/8100 [==============================] - 0s 17us/step - loss: 0.5944 - acc: 0.6896 - val_loss: 0.5773 - val_acc: 0.7100\n",
      "Epoch 62/100\n",
      "8100/8100 [==============================] - 0s 16us/step - loss: 0.5918 - acc: 0.6978 - val_loss: 0.5763 - val_acc: 0.7011\n",
      "Epoch 63/100\n",
      "8100/8100 [==============================] - 0s 16us/step - loss: 0.5894 - acc: 0.6995 - val_loss: 0.5765 - val_acc: 0.6956\n",
      "Epoch 64/100\n",
      "8100/8100 [==============================] - 0s 15us/step - loss: 0.5885 - acc: 0.6952 - val_loss: 0.5815 - val_acc: 0.7044\n",
      "Epoch 65/100\n",
      "8100/8100 [==============================] - 0s 13us/step - loss: 0.5924 - acc: 0.6953 - val_loss: 0.5822 - val_acc: 0.7044\n",
      "Epoch 66/100\n",
      "8100/8100 [==============================] - 0s 13us/step - loss: 0.5886 - acc: 0.6996 - val_loss: 0.5792 - val_acc: 0.6978\n",
      "Epoch 67/100\n",
      "8100/8100 [==============================] - 0s 16us/step - loss: 0.5873 - acc: 0.6951 - val_loss: 0.5788 - val_acc: 0.7056\n",
      "Epoch 68/100\n",
      "8100/8100 [==============================] - 0s 15us/step - loss: 0.5887 - acc: 0.7009 - val_loss: 0.5770 - val_acc: 0.7011\n",
      "Epoch 69/100\n",
      "8100/8100 [==============================] - 0s 17us/step - loss: 0.5873 - acc: 0.7019 - val_loss: 0.5803 - val_acc: 0.7056\n",
      "Epoch 70/100\n",
      "8100/8100 [==============================] - 0s 16us/step - loss: 0.5864 - acc: 0.7011 - val_loss: 0.5819 - val_acc: 0.7000\n",
      "Epoch 71/100\n",
      "8100/8100 [==============================] - 0s 17us/step - loss: 0.5905 - acc: 0.6907 - val_loss: 0.5820 - val_acc: 0.6956\n",
      "Epoch 72/100\n",
      "8100/8100 [==============================] - 0s 14us/step - loss: 0.5871 - acc: 0.6980 - val_loss: 0.5783 - val_acc: 0.7067\n",
      "Epoch 73/100\n",
      "8100/8100 [==============================] - 0s 14us/step - loss: 0.5914 - acc: 0.6940 - val_loss: 0.5801 - val_acc: 0.7078\n",
      "Epoch 74/100\n",
      "8100/8100 [==============================] - 0s 14us/step - loss: 0.5859 - acc: 0.6991 - val_loss: 0.5779 - val_acc: 0.7011\n",
      "Epoch 75/100\n",
      "8100/8100 [==============================] - 0s 12us/step - loss: 0.5859 - acc: 0.6985 - val_loss: 0.5777 - val_acc: 0.7067\n",
      "Epoch 76/100\n",
      "8100/8100 [==============================] - 0s 14us/step - loss: 0.5883 - acc: 0.6948 - val_loss: 0.5756 - val_acc: 0.7078\n",
      "Epoch 77/100\n",
      "8100/8100 [==============================] - 0s 14us/step - loss: 0.5849 - acc: 0.6999 - val_loss: 0.5724 - val_acc: 0.7078\n",
      "Epoch 78/100\n",
      "8100/8100 [==============================] - 0s 16us/step - loss: 0.5879 - acc: 0.6975 - val_loss: 0.5756 - val_acc: 0.6978\n",
      "Epoch 79/100\n",
      "8100/8100 [==============================] - 0s 14us/step - loss: 0.5881 - acc: 0.6965 - val_loss: 0.5770 - val_acc: 0.6956\n",
      "Epoch 80/100\n",
      "8100/8100 [==============================] - 0s 13us/step - loss: 0.5829 - acc: 0.7004 - val_loss: 0.5785 - val_acc: 0.7044\n",
      "Epoch 81/100\n",
      "8100/8100 [==============================] - 0s 13us/step - loss: 0.5833 - acc: 0.7019 - val_loss: 0.5793 - val_acc: 0.6956\n",
      "Epoch 82/100\n",
      "8100/8100 [==============================] - 0s 18us/step - loss: 0.5852 - acc: 0.6946 - val_loss: 0.5770 - val_acc: 0.7000\n",
      "Epoch 83/100\n",
      "8100/8100 [==============================] - 0s 17us/step - loss: 0.5886 - acc: 0.6960 - val_loss: 0.5765 - val_acc: 0.7033\n",
      "Epoch 84/100\n",
      "8100/8100 [==============================] - 0s 15us/step - loss: 0.5854 - acc: 0.6978 - val_loss: 0.5785 - val_acc: 0.6944\n",
      "Epoch 85/100\n",
      "8100/8100 [==============================] - 0s 25us/step - loss: 0.5877 - acc: 0.6944 - val_loss: 0.5755 - val_acc: 0.7078\n",
      "Epoch 86/100\n",
      "8100/8100 [==============================] - 0s 17us/step - loss: 0.5877 - acc: 0.6981 - val_loss: 0.5760 - val_acc: 0.7033\n",
      "Epoch 87/100\n",
      "8100/8100 [==============================] - 0s 16us/step - loss: 0.5881 - acc: 0.6915 - val_loss: 0.5751 - val_acc: 0.7089\n",
      "Epoch 88/100\n",
      "8100/8100 [==============================] - 0s 19us/step - loss: 0.5886 - acc: 0.6952 - val_loss: 0.5812 - val_acc: 0.7011\n",
      "Epoch 89/100\n",
      "8100/8100 [==============================] - 0s 18us/step - loss: 0.5898 - acc: 0.6946 - val_loss: 0.5819 - val_acc: 0.7056\n",
      "Epoch 90/100\n",
      "8100/8100 [==============================] - 0s 14us/step - loss: 0.5904 - acc: 0.6904 - val_loss: 0.5779 - val_acc: 0.7100\n",
      "Epoch 91/100\n",
      "8100/8100 [==============================] - 0s 18us/step - loss: 0.5892 - acc: 0.6962 - val_loss: 0.5791 - val_acc: 0.7056\n",
      "Epoch 92/100\n",
      "8100/8100 [==============================] - 0s 19us/step - loss: 0.5846 - acc: 0.6977 - val_loss: 0.5775 - val_acc: 0.7122\n",
      "Epoch 93/100\n",
      "8100/8100 [==============================] - 0s 18us/step - loss: 0.5848 - acc: 0.6927 - val_loss: 0.5780 - val_acc: 0.7122\n",
      "Epoch 94/100\n",
      "8100/8100 [==============================] - 0s 17us/step - loss: 0.5859 - acc: 0.6977 - val_loss: 0.5755 - val_acc: 0.7044\n",
      "Epoch 95/100\n",
      "8100/8100 [==============================] - 0s 19us/step - loss: 0.5865 - acc: 0.6973 - val_loss: 0.5754 - val_acc: 0.7078\n",
      "Epoch 96/100\n",
      "8100/8100 [==============================] - 0s 18us/step - loss: 0.5869 - acc: 0.6972 - val_loss: 0.5774 - val_acc: 0.7033\n",
      "Epoch 97/100\n",
      "8100/8100 [==============================] - 0s 17us/step - loss: 0.5842 - acc: 0.6975 - val_loss: 0.5743 - val_acc: 0.7100\n",
      "Epoch 98/100\n",
      "8100/8100 [==============================] - 0s 14us/step - loss: 0.5861 - acc: 0.6923 - val_loss: 0.5726 - val_acc: 0.7144\n",
      "Epoch 99/100\n",
      "8100/8100 [==============================] - 0s 17us/step - loss: 0.5863 - acc: 0.6943 - val_loss: 0.5738 - val_acc: 0.7044\n",
      "Epoch 100/100\n",
      "8100/8100 [==============================] - 0s 16us/step - loss: 0.5840 - acc: 0.6967 - val_loss: 0.5819 - val_acc: 0.7000\n"
     ]
    },
    {
     "data": {
      "text/plain": [
       "<keras.callbacks.History at 0x1562d9750>"
      ]
     },
     "execution_count": 289,
     "metadata": {},
     "output_type": "execute_result"
    }
   ],
   "source": [
    "model.fit(X_train, y_train, epochs=100,validation_split = .1, callbacks = [hist], batch_size=1000)"
   ]
  },
  {
   "cell_type": "code",
   "execution_count": 290,
   "metadata": {},
   "outputs": [
    {
     "name": "stdout",
     "output_type": "stream",
     "text": [
      "              precision    recall  f1-score   support\n",
      "\n",
      "           0       0.68      0.75      0.71       480\n",
      "           1       0.74      0.67      0.70       520\n",
      "\n",
      "   micro avg       0.71      0.71      0.71      1000\n",
      "   macro avg       0.71      0.71      0.71      1000\n",
      "weighted avg       0.71      0.71      0.71      1000\n",
      "\n",
      "              precision    recall  f1-score   support\n",
      "\n",
      "           0       0.70      0.73      0.72      4494\n",
      "           1       0.72      0.69      0.71      4506\n",
      "\n",
      "   micro avg       0.71      0.71      0.71      9000\n",
      "   macro avg       0.71      0.71      0.71      9000\n",
      "weighted avg       0.71      0.71      0.71      9000\n",
      "\n"
     ]
    }
   ],
   "source": [
    "print(classification_report(y_test, model.predict_classes(X_test)))\n",
    "print(classification_report(y_train,  model.predict_classes(X_train)))"
   ]
  },
  {
   "cell_type": "code",
   "execution_count": 291,
   "metadata": {},
   "outputs": [
    {
     "data": {
      "image/png": "[encoded data removed]",
      "text/plain": [
       "<Figure size 432x288 with 1 Axes>"
      ]
     },
     "metadata": {
      "needs_background": "light"
     },
     "output_type": "display_data"
    }
   ],
   "source": [
    "plt.plot(hist.history['loss'], color = 'red')\n",
    "plt.plot(hist.history['val_loss'], color = 'blue')\n",
    "plt.xlabel('Epochs')\n",
    "plt.ylabel('Loss')\n",
    "plt.show()"
   ]
  },
  {
   "cell_type": "code",
   "execution_count": 303,
   "metadata": {},
   "outputs": [],
   "source": [
    "val_data = model_data[10000:].drop(columns=implied_probs)\n",
    "val_odds = model_data[10000:].P1_implied"
   ]
  },
  {
   "cell_type": "code",
   "execution_count": 297,
   "metadata": {},
   "outputs": [],
   "source": [
    "val_x= val_data.drop(columns=['P1Result'])\n",
    "val_y = val_data.P1Result"
   ]
  },
  {
   "cell_type": "code",
   "execution_count": 299,
   "metadata": {},
   "outputs": [
    {
     "name": "stdout",
     "output_type": "stream",
     "text": [
      "              precision    recall  f1-score   support\n",
      "\n",
      "           0       0.65      0.68      0.67      1765\n",
      "           1       0.68      0.65      0.67      1851\n",
      "\n",
      "   micro avg       0.67      0.67      0.67      3616\n",
      "   macro avg       0.67      0.67      0.67      3616\n",
      "weighted avg       0.67      0.67      0.67      3616\n",
      "\n",
      "              precision    recall  f1-score   support\n",
      "\n",
      "           0       0.65      0.68      0.66      1765\n",
      "           1       0.68      0.65      0.67      1851\n",
      "\n",
      "   micro avg       0.66      0.66      0.66      3616\n",
      "   macro avg       0.67      0.67      0.66      3616\n",
      "weighted avg       0.67      0.66      0.66      3616\n",
      "\n"
     ]
    }
   ],
   "source": [
    "print(classification_report(val_y,  val_x.P1_implied > 0.5))\n",
    "print(classification_report(val_y,  model.predict_classes(scaler.transform(val_x.values))))"
   ]
  },
  {
   "cell_type": "code",
   "execution_count": 311,
   "metadata": {},
   "outputs": [
    {
     "data": {
      "text/plain": [
       "(3616, 1)"
      ]
     },
     "execution_count": 311,
     "metadata": {},
     "output_type": "execute_result"
    }
   ],
   "source": [
    "pred_probs = model.predict(scaler.transform(val_x.values))\n",
    "\n",
    "pred_probs.shape"
   ]
  },
  {
   "cell_type": "code",
   "execution_count": 323,
   "metadata": {},
   "outputs": [],
   "source": [
    "sim = model_data.join(data[odds])"
   ]
  },
  {
   "cell_type": "code",
   "execution_count": 318,
   "metadata": {},
   "outputs": [
    {
     "data": {
      "text/plain": [
       "<matplotlib.axes._subplots.AxesSubplot at 0x15f91f3d0>"
      ]
     },
     "execution_count": 318,
     "metadata": {},
     "output_type": "execute_result"
    },
    {
     "data": {
      "image/png": "[encoded data removed]",
      "text/plain": [
       "<Figure size 432x288 with 1 Axes>"
      ]
     },
     "metadata": {
      "needs_background": "light"
     },
     "output_type": "display_data"
    }
   ],
   "source": [
    "sns.distplot(pred_probs-val_odds)"
   ]
  },
  {
   "cell_type": "code",
   "execution_count": 10,
   "metadata": {},
   "outputs": [
    {
     "data": {
      "text/plain": [
       "<matplotlib.axes._subplots.AxesSubplot at 0x11fef3390>"
      ]
     },
     "execution_count": 10,
     "metadata": {},
     "output_type": "execute_result"
    },
    {
     "data": {
      "image/png": "[encoded data removed]",
      "text/plain": [
       "<Figure size 432x288 with 1 Axes>"
      ]
     },
     "metadata": {
      "needs_background": "light"
     },
     "output_type": "display_data"
    }
   ],
   "source": [
    "simple_model_probs = model.predict_proba(X_test)[:,1]\n",
    "p1_implied_test = model_data.P1_implied[train_to:]\n",
    "\n",
    "sns.distplot(simple_model_probs, rug=True)\n",
    "# model.predict_proba(model_data[train_to:][x_values])\n",
    "# sns.distplot(p1_implied_test)"
   ]
  },
  {
   "cell_type": "code",
   "execution_count": 11,
   "metadata": {},
   "outputs": [
    {
     "name": "stdout",
     "output_type": "stream",
     "text": [
      "6808\n"
     ]
    }
   ],
   "source": [
    "model_data['LogProbsP2'], model_data['LogProbsP1']  = model.predict_log_proba(model_data[x_values])[:,0] , model.predict_log_proba(model_data[x_values])[:,1] \n",
    "train_model_2 = model_data[train_to:]\n",
    "print(len(train_model_2))"
   ]
  },
  {
   "cell_type": "code",
   "execution_count": 12,
   "metadata": {},
   "outputs": [],
   "source": [
    "x_values_2 = ['LogProbsP1',  'P1_implied_log']"
   ]
  },
  {
   "cell_type": "code",
   "execution_count": 13,
   "metadata": {},
   "outputs": [
    {
     "name": "stdout",
     "output_type": "stream",
     "text": [
      "              precision    recall  f1-score   support\n",
      "\n",
      "           0       0.70      0.65      0.67       341\n",
      "           1       0.67      0.72      0.69       340\n",
      "\n",
      "   micro avg       0.68      0.68      0.68       681\n",
      "   macro avg       0.68      0.68      0.68       681\n",
      "weighted avg       0.68      0.68      0.68       681\n",
      "\n"
     ]
    },
    {
     "data": {
      "text/plain": [
       "-0.26872520269104716"
      ]
     },
     "execution_count": 13,
     "metadata": {},
     "output_type": "execute_result"
    },
    {
     "data": {
      "image/png": "[encoded data removed]",
      "text/plain": [
       "<Figure size 432x288 with 1 Axes>"
      ]
     },
     "metadata": {
      "needs_background": "light"
     },
     "output_type": "display_data"
    }
   ],
   "source": [
    "X_train2, X_test2, y_train2, y_test2 = train_test_split(train_model_2[['LogProbsP1',  'P1_implied_log']],train_model_2['P1Result'], test_size=0.1)\n",
    "model_wp = LogisticRegression(solver='liblinear', fit_intercept=True)\n",
    "model_wp.fit(X_train2,y_train2)\n",
    "predictions2 = model_wp.predict(X_test2)\n",
    "print(classification_report(y_test2, predictions2))\n",
    "\n",
    "sns.distplot(model_wp.predict_proba(X_test2)[:,1], bins=100)\n",
    "sns.distplot(model_wp.predict_proba(X_test2)[:,1], bins=100)\n",
    "\n",
    "r2_score(y_test2, predictions2)\n"
   ]
  },
  {
   "cell_type": "code",
   "execution_count": 14,
   "metadata": {},
   "outputs": [
    {
     "name": "stdout",
     "output_type": "stream",
     "text": [
      "[0.99810215]\n"
     ]
    }
   ],
   "source": [
    "print(1/np.exp(-model.intercept_))\n"
   ]
  },
  {
   "cell_type": "code",
   "execution_count": null,
   "metadata": {},
   "outputs": [],
   "source": []
  },
  {
   "cell_type": "code",
   "execution_count": 15,
   "metadata": {},
   "outputs": [
    {
     "data": {
      "text/plain": [
       "<matplotlib.axes._subplots.AxesSubplot at 0x1205365c0>"
      ]
     },
     "execution_count": 15,
     "metadata": {},
     "output_type": "execute_result"
    },
    {
     "data": {
      "image/png": "[encoded data removed]",
      "text/plain": [
       "<Figure size 432x288 with 1 Axes>"
      ]
     },
     "metadata": {
      "needs_background": "light"
     },
     "output_type": "display_data"
    }
   ],
   "source": [
    "p1_probs = model_wp.predict_proba(X_test2)[...,1]\n",
    "p2_probs = model_wp.predict_proba(X_test2)[...,0]\n",
    "p1_implied_probs=np.exp(X_test2.values[...,1])\n",
    "# sns.distplot(p1_probs, label='model outs')\n",
    "sns.distplot(p1_implied_probs, label='bookies')\n",
    "\n",
    "\n"
   ]
  },
  {
   "cell_type": "code",
   "execution_count": 16,
   "metadata": {},
   "outputs": [],
   "source": [
    "class BetBot:\n",
    "    \n",
    "    def _init_(self,capital,predictor):\n",
    "        self.capital = capital \n",
    "        self.predictor = predictor\n",
    "        \n",
    "    def bet(self, *info, odds):\n",
    "        pass\n",
    "        \n",
    "        \n",
    "        \n",
    "        \n",
    "        "
   ]
  },
  {
   "cell_type": "code",
   "execution_count": 17,
   "metadata": {},
   "outputs": [
    {
     "data": {
      "text/plain": [
       "array([0.57825897, 0.99410271, 0.41222233, 0.71303236, 0.50202698,\n",
       "       0.71144593, 0.38612943, 0.64881966, 0.28414169, 0.43031825,\n",
       "       0.40887069, 0.81845669, 0.57838104, 0.76944238, 0.5781455 ,\n",
       "       0.57879139, 0.71368276, 0.30500683, 0.57797378, 0.62454919,\n",
       "       0.63185153, 0.29806366, 0.65811217, 0.7746091 , 0.46324862,\n",
       "       0.35873973, 0.42355534, 0.38417918, 0.26380449, 0.23878946,\n",
       "       0.38190526, 0.46321843, 0.54301915, 0.3124626 , 0.46685909,\n",
       "       0.33334255, 0.54132476, 0.70510254, 0.2266977 , 0.7625383 ,\n",
       "       0.93778351, 0.52500952, 0.50188657, 0.22353623, 0.57763566,\n",
       "       0.59905002, 0.41821366, 0.34503444, 0.76191885, 0.75907633,\n",
       "       0.28746427, 0.57907505, 0.88270898, 0.30514408, 0.2580694 ,\n",
       "       0.4446261 , 0.67069311, 0.52432094, 0.32722851, 0.59619686,\n",
       "       0.34363846, 0.62764309, 0.79877733, 0.33355601, 0.2262858 ,\n",
       "       0.42751508, 0.39766858, 0.39375844, 0.37015721, 0.3556859 ,\n",
       "       0.63922821, 0.20523842, 0.7329002 , 0.63177076, 0.53836974,\n",
       "       0.73181437, 0.651931  , 0.42136233, 0.79509527, 0.27767901,\n",
       "       0.655784  , 0.22994831, 0.38494367, 0.80294531, 0.84484574,\n",
       "       0.68452287, 0.39996306, 0.73440697, 0.44517006, 0.38603593,\n",
       "       0.47108189, 0.31705672, 0.28118573, 0.27862646, 0.85437309,\n",
       "       0.33905611, 0.68473845, 0.62752407, 0.72638511, 0.77463668,\n",
       "       0.57893591, 0.62141398, 0.41786667, 0.46266829, 0.31657947,\n",
       "       0.9952292 , 0.36146707, 0.41312037, 0.81106153, 0.993738  ,\n",
       "       0.50575392, 0.85121223, 0.4296128 , 0.26660627, 0.38442586,\n",
       "       0.35819606, 0.58477996, 0.96134258, 0.8103888 , 0.34691238,\n",
       "       0.30693358, 0.77916458, 0.4238614 , 0.58826969, 0.45882932,\n",
       "       0.78542789, 0.8540791 , 0.33182527, 0.79743084, 0.34131124,\n",
       "       0.5025701 , 0.27022241, 0.4499226 , 0.32305767, 0.46282192,\n",
       "       0.62789488, 0.77436943, 0.32782424, 0.86157777, 0.69576066,\n",
       "       0.3936527 , 0.22749195, 0.39588654, 0.99734586, 0.79690124,\n",
       "       0.54036819, 0.99326636, 0.28236179, 0.50141745, 0.68519584,\n",
       "       0.90874777, 0.2766308 , 0.7671023 , 0.38340788, 0.59957062,\n",
       "       0.91870664, 0.27659317, 0.49692203, 0.58923125, 0.35681202,\n",
       "       0.73132915, 0.24074291, 0.63211524, 0.28079795, 0.33964666,\n",
       "       0.21140484, 0.2957337 , 0.32621251, 0.34366856, 0.43146641,\n",
       "       0.59863188, 0.36273299, 0.78405591, 0.37914938, 0.61776668,\n",
       "       0.3794575 , 0.79956333, 0.67079652, 0.25298393, 0.37819015,\n",
       "       0.22900219, 0.30489012, 0.50207572, 0.26296204, 0.24317957,\n",
       "       0.23088647, 0.82149133, 0.46320808, 0.81779318, 0.38430988,\n",
       "       0.78581829, 0.44210677, 0.97602666, 0.54141649, 0.22372515,\n",
       "       0.48482712, 0.68492843, 0.53139774, 0.32573168, 0.3173746 ,\n",
       "       0.41611953, 0.95223676, 0.38918867, 0.87980437, 0.72951349,\n",
       "       0.79939761, 0.5202    , 0.20734953, 0.45895145, 0.64528002,\n",
       "       0.62774961, 0.63904575, 0.55655876, 0.94881911, 0.28198003,\n",
       "       0.3688477 , 0.38627659, 0.52509637, 0.4500982 , 0.75624952,\n",
       "       0.79502651, 0.44030221, 0.2562387 , 0.52014716, 0.9152107 ,\n",
       "       0.25703987, 0.51990966, 0.26911196, 0.96746404, 0.72226412,\n",
       "       0.55306649, 0.24483095, 0.54259068, 0.42828563, 0.46298956,\n",
       "       0.26990524, 0.82177236, 0.32211215, 0.52890741, 0.57859846,\n",
       "       0.9136543 , 0.54560635, 0.36667728, 0.53130359, 0.99424134,\n",
       "       0.59091366, 0.5673169 , 0.28745884, 0.27026323, 0.22383412,\n",
       "       0.42777542, 0.282658  , 0.54156236, 0.33203255, 0.89597525,\n",
       "       0.87992688, 0.58326094, 0.25490238, 0.30675766, 0.74609891,\n",
       "       0.72671087, 0.31643043, 0.68534587, 0.28360244, 0.5142247 ,\n",
       "       0.31849692, 0.26931755, 0.59564974, 0.77409045, 0.29461775,\n",
       "       0.39051907, 0.26277441, 0.65159935, 0.35576929, 0.58726419,\n",
       "       0.25150386, 0.33157771, 0.55899212, 0.44232438, 0.85979786,\n",
       "       0.24783854, 0.50233355, 0.90860431, 0.2545752 , 0.49170249,\n",
       "       0.77263801, 0.33992205, 0.95556513, 0.49130649, 0.96699673,\n",
       "       0.38860073, 0.87515663, 0.24569537, 0.72726988, 0.4127025 ,\n",
       "       0.44997183, 0.35981502, 0.68955057, 0.21776672, 0.96695723,\n",
       "       0.91739702, 0.25713361, 0.35825025, 0.31413457, 0.7202049 ,\n",
       "       0.4913579 , 0.61046837, 0.25029697, 0.62715208, 0.46353836,\n",
       "       0.65602136, 0.58815504, 0.3764382 , 0.59888351, 0.27555281,\n",
       "       0.63611397, 0.59842437, 0.64520943, 0.37231729, 0.4810576 ,\n",
       "       0.23073622, 0.38792593, 0.50535071, 0.28879483, 0.20401382,\n",
       "       0.29592143, 0.57885748, 0.60434537, 0.70222063, 0.21404607,\n",
       "       0.54635597, 0.7136968 , 0.24995629, 0.74869211, 0.30522376,\n",
       "       0.25292004, 0.41319581, 0.65874631, 0.23620355, 0.34335667,\n",
       "       0.3317416 , 0.22737202, 0.33471393, 0.97683057, 0.33226923,\n",
       "       0.63280431, 0.98308457, 0.23404713, 0.46325128, 0.44952186,\n",
       "       0.33168493, 0.29928123, 0.40746536, 0.87617831, 0.3842556 ,\n",
       "       0.58339663, 0.30467522, 0.4061765 , 0.81220228, 0.21395984,\n",
       "       0.78125906, 0.6432468 , 0.40627239, 0.87507957, 0.76978376,\n",
       "       0.21729144, 0.65076317, 0.7406486 , 0.50930286, 0.58294242,\n",
       "       0.68100264, 0.8147381 , 0.68269912, 0.31809424, 0.41924766,\n",
       "       0.25790346, 0.57918825, 0.52473794, 0.59136635, 0.68513404,\n",
       "       0.73413469, 0.77012408, 0.30520143, 0.37988975, 0.40517402,\n",
       "       0.25029995, 0.33825049, 0.83091193, 0.51939257, 0.55621638,\n",
       "       0.66436677, 0.32415032, 0.91149549, 0.73222023, 0.20953262,\n",
       "       0.4886338 , 0.23765031, 0.49707362, 0.59860369, 0.33782394,\n",
       "       0.55719507, 0.23646787, 0.34675974, 0.52056321, 0.35220426,\n",
       "       0.4133043 , 0.2658629 , 0.47276525, 0.50891405, 0.78839167,\n",
       "       0.37134992, 0.38964563, 0.40587207, 0.35417455, 0.34369636,\n",
       "       0.5787434 , 0.31252847, 0.53155974, 0.50200529, 0.32730961,\n",
       "       0.90870904, 0.53851548, 0.38961407, 0.36311689, 0.2663517 ,\n",
       "       0.81230187, 0.71392177, 0.83113743, 0.35861792, 0.63202282,\n",
       "       0.56086622, 0.59917714, 0.29703378, 0.29992924, 0.62770652,\n",
       "       0.72821254, 0.53113348, 0.55402508, 0.29342879, 0.7365021 ,\n",
       "       0.95939169, 0.7664108 , 0.91672458, 0.4762638 , 0.98995829,\n",
       "       0.58911324, 0.56868836, 0.44211928, 0.26596665, 0.23716274,\n",
       "       0.3559056 , 0.26253168, 0.34357587, 0.26098572, 0.83310446,\n",
       "       0.34332693, 0.3624841 , 0.91936525, 0.49161284, 0.291198  ,\n",
       "       0.42363696, 0.45852896, 0.82338298, 0.57858176, 0.59911781,\n",
       "       0.28720193, 0.23865919, 0.42262534, 0.95147548, 0.24185876,\n",
       "       0.32004593, 0.26074305, 0.57887736, 0.35859346, 0.39554695,\n",
       "       0.24508238, 0.23634104, 0.3314118 , 0.25719869, 0.48194001,\n",
       "       0.91347787, 0.35861594, 0.43386405, 0.7358813 , 0.24119999,\n",
       "       0.46353569, 0.40925519, 0.27083387, 0.71752076, 0.74926032,\n",
       "       0.57871412, 0.66625576, 0.60998821, 0.34251151, 0.31420708,\n",
       "       0.33525092, 0.61514207, 0.29157604, 0.34316583, 0.67558445,\n",
       "       0.61083542, 0.38018824, 0.42759317, 0.40461236, 0.36561166,\n",
       "       0.3434549 , 0.95867561, 0.31652195, 0.36560258, 0.42775654,\n",
       "       0.65623016, 0.25496783, 0.35860774, 0.99336319, 0.43398819,\n",
       "       0.3839108 , 0.72276934, 0.52002391, 0.25003221, 0.55335762,\n",
       "       0.46279354, 0.33189332, 0.64558738, 0.33203273, 0.74851928,\n",
       "       0.49472266, 0.44559039, 0.24292486, 0.42746244, 0.31863767,\n",
       "       0.59183383, 0.78596474, 0.71740126, 0.30697793, 0.29142579,\n",
       "       0.54164986, 0.80807945, 0.21713547, 0.22538858, 0.57506988,\n",
       "       0.34867338, 0.2489745 , 0.29216253, 0.61664471, 0.4310664 ,\n",
       "       0.46304323, 0.2636446 , 0.37207975, 0.32476692, 0.33757179,\n",
       "       0.30840129, 0.52037325, 0.38662344, 0.42749024, 0.59177621,\n",
       "       0.98546113, 0.20799751, 0.7945407 , 0.41269568, 0.65611592,\n",
       "       0.68330551, 0.50203386, 0.3709655 , 0.38923005, 0.26402372,\n",
       "       0.25613845, 0.25572081, 0.2701389 , 0.3940685 , 0.25608906,\n",
       "       0.65118836, 0.32013941, 0.99503803, 0.60457492, 0.3845686 ,\n",
       "       0.7344328 , 0.89531858, 0.92160031, 0.35993524, 0.72593823,\n",
       "       0.65168728, 0.85861657, 0.94031331, 0.7814791 , 0.88109155,\n",
       "       0.4201404 , 0.33506647, 0.28358474, 0.7858647 , 0.56461811,\n",
       "       0.21472628, 0.48139659, 0.30679203, 0.46499947, 0.68904933,\n",
       "       0.31295971, 0.69359822, 0.49299699, 0.81575664, 0.38674314,\n",
       "       0.29002339, 0.90415722, 0.265568  , 0.86009354, 0.4582021 ,\n",
       "       0.35858854, 0.83351979, 0.42305514, 0.38006622, 0.37560746,\n",
       "       0.45827289, 0.72892631, 0.29171216, 0.38028456, 0.34667387,\n",
       "       0.90848756, 0.6795648 , 0.46095695, 0.77480971, 0.83080212,\n",
       "       0.45894993, 0.37960425, 0.29332592, 0.33824969, 0.7925752 ,\n",
       "       0.8595619 , 0.75209924, 0.20611906, 0.57171801, 0.3768867 ,\n",
       "       0.62782008, 0.3186634 , 0.45036289, 0.91778772, 0.30569599,\n",
       "       0.73522417, 0.58843859, 0.23118437, 0.54236933, 0.79741231,\n",
       "       0.35359412, 0.72204028, 0.27349097, 0.2589489 , 0.64800611,\n",
       "       0.77427924, 0.34511583, 0.25831174, 0.87560975, 0.2417189 ,\n",
       "       0.60339027, 0.91046163, 0.3363436 , 0.71313868, 0.8546016 ,\n",
       "       0.38493945, 0.80336974, 0.41670907, 0.72905836, 0.68505747,\n",
       "       0.68247171, 0.41791139, 0.63279313, 0.31093581, 0.3821009 ,\n",
       "       0.56966697, 0.60452408, 0.27337239, 0.44161788, 0.59336385,\n",
       "       0.25484894, 0.33991076, 0.29700965, 0.26949823, 0.73425517,\n",
       "       0.37322591, 0.92359975, 0.52096324, 0.3282294 , 0.40968903,\n",
       "       0.30257157])"
      ]
     },
     "execution_count": 17,
     "metadata": {},
     "output_type": "execute_result"
    }
   ],
   "source": [
    "model_wp.predict_proba(X_test2)[...,0]"
   ]
  },
  {
   "cell_type": "code",
   "execution_count": null,
   "metadata": {},
   "outputs": [],
   "source": []
  }
 ],
 "metadata": {
  "kernelspec": {
   "display_name": "Python 3",
   "language": "python",
   "name": "python3"
  },
  "language_info": {
   "codemirror_mode": {
    "name": "ipython",
    "version": 3
   },
   "file_extension": ".py",
   "mimetype": "text/x-python",
   "name": "python",
   "nbconvert_exporter": "python",
   "pygments_lexer": "ipython3",
   "version": "3.7.4"
  }
 },
 "nbformat": 4,
 "nbformat_minor": 2
}
